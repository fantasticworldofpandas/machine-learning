{
 "cells": [
  {
   "cell_type": "markdown",
   "id": "b71590c2-97a5-4482-9a0f-e3f5dd48486a",
   "metadata": {},
   "source": [
    "# Modelo Simples de Machine Learning para Previsão para Vendas "
   ]
  },
  {
   "cell_type": "markdown",
   "id": "67e3cb9f-06dd-4f07-9da6-1f60d6476cb8",
   "metadata": {},
   "source": [
    ">Em linhas gerais, implementei um modelo de machine learning para prever se um produto será vendido rapidamente com base em duas características: preço do produto e avaliação média dos clientes por nota."
   ]
  },
  {
   "cell_type": "code",
   "execution_count": 138,
   "id": "bc50d033-9da9-418e-8e25-5a7bf088ae19",
   "metadata": {},
   "outputs": [],
   "source": [
    "# bibliotecas utilizadas \n",
    "import numpy as np\n",
    "from sklearn.model_selection import train_test_split\n",
    "from sklearn.neighbors import KNeighborsClassifier\n",
    "from sklearn.metrics import accuracy_score\n",
    "import pandas as pd\n",
    "\n",
    "#valor = np.array([[1], [2], [3], [4], [5], [6], [7], [8], [9], [10]])\n",
    "#n = np.array([0, 1, 0, 1, 0, 1, 0, 1, 0, 1])"
   ]
  },
  {
   "cell_type": "code",
   "execution_count": 139,
   "id": "68e95105-03b9-418f-a0b0-0be130d73ba0",
   "metadata": {},
   "outputs": [],
   "source": [
    "np.random.seed(59) # consistência do conjunto para as amostras"
   ]
  },
  {
   "cell_type": "code",
   "execution_count": 140,
   "id": "8ffb88a1-2b6e-440d-a7d6-50641c415487",
   "metadata": {},
   "outputs": [],
   "source": [
    "# número de amostras (produtos)\n",
    "produtos = 20"
   ]
  },
  {
   "cell_type": "markdown",
   "id": "a07297fd-868f-43f2-bf33-3a0865220727",
   "metadata": {},
   "source": [
    "### Usando NumPy, criei dados sintéticos representando produtos, considerando o preço e a avaliação média pelos clientes. "
   ]
  },
  {
   "cell_type": "code",
   "execution_count": 141,
   "id": "98b5fdbd-d8d2-465d-88c2-bc3e138e9fcb",
   "metadata": {},
   "outputs": [],
   "source": [
    "# preço do produto x avaliação média por clientes\n",
    "P = np.column_stack((\n",
    "    np.random.uniform(20, 110, size=produtos),    # range de preços dos produtos\n",
    "    np.random.uniform(3.1, 5.6, size=produtos)    # avaliação média por clientes\n",
    "))"
   ]
  },
  {
   "cell_type": "markdown",
   "id": "089e42ac-3c21-4d2e-a823-bccdb8de04a2",
   "metadata": {},
   "source": [
    "### Uma variável categórica \"y\" indica se o produto será vendido rapidamente ou não."
   ]
  },
  {
   "cell_type": "code",
   "execution_count": 142,
   "id": "f6e5345f-67c0-4fdd-a5cc-bedfc784f672",
   "metadata": {},
   "outputs": [],
   "source": [
    "# no \"y\" o 0, representa venda não rápida, e 1 para venda rápida\n",
    "# pressupondo que os produtos com avaliação média acima ou igual à 4.1 e preço abaixo de 50, serãp vendidos rapidamente\n",
    "y = ((P[:, 0] < 50) & (P[:, 1] >= 4.1)).astype(int)"
   ]
  },
  {
   "cell_type": "markdown",
   "id": "bfa944af-f806-41d2-a306-c511ecd1238e",
   "metadata": {},
   "source": [
    "### Os dados são divididos em conjuntos de treino e teste, essenciais para avaliar o desempenho do modelo."
   ]
  },
  {
   "cell_type": "code",
   "execution_count": 143,
   "id": "9b459c9d-6cb8-4e65-95f1-d8201d545dbf",
   "metadata": {},
   "outputs": [],
   "source": [
    "# treinamento e testes\n",
    "P_treino, P_teste, y_treino, y_teste = train_test_split(P, y, test_size=0.2, random_state=42)"
   ]
  },
  {
   "cell_type": "markdown",
   "id": "73864604-09ce-4905-8dc8-634cf3659b98",
   "metadata": {},
   "source": [
    "### Utilizei o modelo K-Nearest Neighbors (KNN) para classificação, treinando com os dados de treino."
   ]
  },
  {
   "cell_type": "code",
   "execution_count": 144,
   "id": "97fe1489-2fd5-4906-8dbc-64296ebf1abf",
   "metadata": {},
   "outputs": [],
   "source": [
    "# modelo utilizado \"KNeighborsClassifier\n",
    "modelo = KNeighborsClassifier(n_neighbors=3)"
   ]
  },
  {
   "cell_type": "code",
   "execution_count": 145,
   "id": "77dc5e57-5dce-4a4b-9932-096f47e93b5c",
   "metadata": {},
   "outputs": [
    {
     "data": {
      "text/html": [
       "<style>#sk-container-id-1 {color: black;}#sk-container-id-1 pre{padding: 0;}#sk-container-id-1 div.sk-toggleable {background-color: white;}#sk-container-id-1 label.sk-toggleable__label {cursor: pointer;display: block;width: 100%;margin-bottom: 0;padding: 0.3em;box-sizing: border-box;text-align: center;}#sk-container-id-1 label.sk-toggleable__label-arrow:before {content: \"▸\";float: left;margin-right: 0.25em;color: #696969;}#sk-container-id-1 label.sk-toggleable__label-arrow:hover:before {color: black;}#sk-container-id-1 div.sk-estimator:hover label.sk-toggleable__label-arrow:before {color: black;}#sk-container-id-1 div.sk-toggleable__content {max-height: 0;max-width: 0;overflow: hidden;text-align: left;background-color: #f0f8ff;}#sk-container-id-1 div.sk-toggleable__content pre {margin: 0.2em;color: black;border-radius: 0.25em;background-color: #f0f8ff;}#sk-container-id-1 input.sk-toggleable__control:checked~div.sk-toggleable__content {max-height: 200px;max-width: 100%;overflow: auto;}#sk-container-id-1 input.sk-toggleable__control:checked~label.sk-toggleable__label-arrow:before {content: \"▾\";}#sk-container-id-1 div.sk-estimator input.sk-toggleable__control:checked~label.sk-toggleable__label {background-color: #d4ebff;}#sk-container-id-1 div.sk-label input.sk-toggleable__control:checked~label.sk-toggleable__label {background-color: #d4ebff;}#sk-container-id-1 input.sk-hidden--visually {border: 0;clip: rect(1px 1px 1px 1px);clip: rect(1px, 1px, 1px, 1px);height: 1px;margin: -1px;overflow: hidden;padding: 0;position: absolute;width: 1px;}#sk-container-id-1 div.sk-estimator {font-family: monospace;background-color: #f0f8ff;border: 1px dotted black;border-radius: 0.25em;box-sizing: border-box;margin-bottom: 0.5em;}#sk-container-id-1 div.sk-estimator:hover {background-color: #d4ebff;}#sk-container-id-1 div.sk-parallel-item::after {content: \"\";width: 100%;border-bottom: 1px solid gray;flex-grow: 1;}#sk-container-id-1 div.sk-label:hover label.sk-toggleable__label {background-color: #d4ebff;}#sk-container-id-1 div.sk-serial::before {content: \"\";position: absolute;border-left: 1px solid gray;box-sizing: border-box;top: 0;bottom: 0;left: 50%;z-index: 0;}#sk-container-id-1 div.sk-serial {display: flex;flex-direction: column;align-items: center;background-color: white;padding-right: 0.2em;padding-left: 0.2em;position: relative;}#sk-container-id-1 div.sk-item {position: relative;z-index: 1;}#sk-container-id-1 div.sk-parallel {display: flex;align-items: stretch;justify-content: center;background-color: white;position: relative;}#sk-container-id-1 div.sk-item::before, #sk-container-id-1 div.sk-parallel-item::before {content: \"\";position: absolute;border-left: 1px solid gray;box-sizing: border-box;top: 0;bottom: 0;left: 50%;z-index: -1;}#sk-container-id-1 div.sk-parallel-item {display: flex;flex-direction: column;z-index: 1;position: relative;background-color: white;}#sk-container-id-1 div.sk-parallel-item:first-child::after {align-self: flex-end;width: 50%;}#sk-container-id-1 div.sk-parallel-item:last-child::after {align-self: flex-start;width: 50%;}#sk-container-id-1 div.sk-parallel-item:only-child::after {width: 0;}#sk-container-id-1 div.sk-dashed-wrapped {border: 1px dashed gray;margin: 0 0.4em 0.5em 0.4em;box-sizing: border-box;padding-bottom: 0.4em;background-color: white;}#sk-container-id-1 div.sk-label label {font-family: monospace;font-weight: bold;display: inline-block;line-height: 1.2em;}#sk-container-id-1 div.sk-label-container {text-align: center;}#sk-container-id-1 div.sk-container {/* jupyter's `normalize.less` sets `[hidden] { display: none; }` but bootstrap.min.css set `[hidden] { display: none !important; }` so we also need the `!important` here to be able to override the default hidden behavior on the sphinx rendered scikit-learn.org. See: https://github.com/scikit-learn/scikit-learn/issues/21755 */display: inline-block !important;position: relative;}#sk-container-id-1 div.sk-text-repr-fallback {display: none;}</style><div id=\"sk-container-id-1\" class=\"sk-top-container\"><div class=\"sk-text-repr-fallback\"><pre>KNeighborsClassifier(n_neighbors=3)</pre><b>In a Jupyter environment, please rerun this cell to show the HTML representation or trust the notebook. <br />On GitHub, the HTML representation is unable to render, please try loading this page with nbviewer.org.</b></div><div class=\"sk-container\" hidden><div class=\"sk-item\"><div class=\"sk-estimator sk-toggleable\"><input class=\"sk-toggleable__control sk-hidden--visually\" id=\"sk-estimator-id-1\" type=\"checkbox\" checked><label for=\"sk-estimator-id-1\" class=\"sk-toggleable__label sk-toggleable__label-arrow\">KNeighborsClassifier</label><div class=\"sk-toggleable__content\"><pre>KNeighborsClassifier(n_neighbors=3)</pre></div></div></div></div></div>"
      ],
      "text/plain": [
       "KNeighborsClassifier(n_neighbors=3)"
      ]
     },
     "execution_count": 145,
     "metadata": {},
     "output_type": "execute_result"
    }
   ],
   "source": [
    "# treino do modelo\n",
    "modelo.fit(P_treino, y_treino)"
   ]
  },
  {
   "cell_type": "code",
   "execution_count": 146,
   "id": "7645c5e2-7190-418c-be54-5c3079d24abb",
   "metadata": {},
   "outputs": [],
   "source": [
    "# fazer previsões no conjunto de teste\n",
    "p_pred = modelo.predict(P_teste)"
   ]
  },
  {
   "cell_type": "markdown",
   "id": "2d7661dd-444b-4fb2-9a84-82226ee1e273",
   "metadata": {},
   "source": [
    "### Após o modelo ser avaliado no conjunto de teste, a acurácia é calculada, indicando a precisão das previsões."
   ]
  },
  {
   "cell_type": "code",
   "execution_count": 152,
   "id": "7ada5e72-597b-44f0-b205-fcbd01572e06",
   "metadata": {},
   "outputs": [
    {
     "name": "stdout",
     "output_type": "stream",
     "text": [
      "A acurácia do modelo para as vendas é: 0.75\n"
     ]
    }
   ],
   "source": [
    "# avaliar a precisão do modelo\n",
    "exatidao = accuracy_score(y_teste, p_pred)\n",
    "print(f'A acurácia do modelo para as vendas é: {exatidao}')"
   ]
  },
  {
   "cell_type": "markdown",
   "id": "c70dafba-5ee4-42e7-8379-7b1481d4568d",
   "metadata": {},
   "source": [
    "### Aqui demonstro como o modelo faz previsões para um novo produto com preço 38 e avaliação média 4.1, indicando se seria vendido rapidamente ou não. [1] = aprovado | [0] = reprovado"
   ]
  },
  {
   "cell_type": "code",
   "execution_count": 148,
   "id": "7b0995c6-2475-462c-a9f8-f2450d3a158c",
   "metadata": {},
   "outputs": [
    {
     "name": "stdout",
     "output_type": "stream",
     "text": [
      "Previsão de venda rápida para novos produtos: [1]\n"
     ]
    }
   ],
   "source": [
    "# previsão para um novo produto\n",
    "novo_produto = np.array([[38, 4.1]])  # valor de 45 e avaliação média de 4.1\n",
    "previsao = modelo.predict(novo_produto.reshape(1, -1))\n",
    "print(f'Previsão de venda rápida para novos produtos: {previsao}') # [1] = aprovado | [0] = reprovado"
   ]
  },
  {
   "cell_type": "markdown",
   "id": "62710c50-d18a-4602-aa12-8772a450ff4d",
   "metadata": {},
   "source": [
    "### DataFrame das avaliações e preços dos produtos, proporcionando uma visão das 5 notas."
   ]
  },
  {
   "cell_type": "code",
   "execution_count": 149,
   "id": "f17d4635-ab8f-4ac4-811d-a8e40fd0f9cb",
   "metadata": {},
   "outputs": [
    {
     "data": {
      "text/html": [
       "<div>\n",
       "<style scoped>\n",
       "    .dataframe tbody tr th:only-of-type {\n",
       "        vertical-align: middle;\n",
       "    }\n",
       "\n",
       "    .dataframe tbody tr th {\n",
       "        vertical-align: top;\n",
       "    }\n",
       "\n",
       "    .dataframe thead th {\n",
       "        text-align: right;\n",
       "    }\n",
       "</style>\n",
       "<table border=\"1\" class=\"dataframe\">\n",
       "  <thead>\n",
       "    <tr style=\"text-align: right;\">\n",
       "      <th></th>\n",
       "      <th>Valor R$</th>\n",
       "      <th>Notas</th>\n",
       "    </tr>\n",
       "  </thead>\n",
       "  <tbody>\n",
       "    <tr>\n",
       "      <th>0</th>\n",
       "      <td>103.2</td>\n",
       "      <td>5.2</td>\n",
       "    </tr>\n",
       "    <tr>\n",
       "      <th>1</th>\n",
       "      <td>34.2</td>\n",
       "      <td>3.9</td>\n",
       "    </tr>\n",
       "    <tr>\n",
       "      <th>2</th>\n",
       "      <td>98.0</td>\n",
       "      <td>3.3</td>\n",
       "    </tr>\n",
       "    <tr>\n",
       "      <th>3</th>\n",
       "      <td>27.6</td>\n",
       "      <td>5.0</td>\n",
       "    </tr>\n",
       "    <tr>\n",
       "      <th>4</th>\n",
       "      <td>71.6</td>\n",
       "      <td>3.7</td>\n",
       "    </tr>\n",
       "  </tbody>\n",
       "</table>\n",
       "</div>"
      ],
      "text/plain": [
       "   Valor R$  Notas\n",
       "0     103.2    5.2\n",
       "1      34.2    3.9\n",
       "2      98.0    3.3\n",
       "3      27.6    5.0\n",
       "4      71.6    3.7"
      ]
     },
     "execution_count": 149,
     "metadata": {},
     "output_type": "execute_result"
    }
   ],
   "source": [
    "# Dataframe com as avaliações e preço\n",
    "dado_classificado = pd.DataFrame(P, columns=['Valor R$', 'Notas']).round(1)\n",
    "dado_classificado.head(5)"
   ]
  },
  {
   "cell_type": "markdown",
   "id": "c8e54f1a-0fbe-49d0-8b3d-cb94e4f1c8b2",
   "metadata": {},
   "source": [
    "### Resumindo, a acurácia do modelo é treinado foi de 75%, e a previsão para os produtos sugerem que seriam vendido rapidamente =[1]\n",
    "\n",
    ">Com esse código apresento uma abordagem simples e eficaz para prever vendas rápidas com \n",
    ">base em características específicas dos produtos, proporcionando uma compreensão \n",
    ">acessível do processo de machine learning."
   ]
  }
 ],
 "metadata": {
  "kernelspec": {
   "display_name": "Python 3 (ipykernel)",
   "language": "python",
   "name": "python3"
  },
  "language_info": {
   "codemirror_mode": {
    "name": "ipython",
    "version": 3
   },
   "file_extension": ".py",
   "mimetype": "text/x-python",
   "name": "python",
   "nbconvert_exporter": "python",
   "pygments_lexer": "ipython3",
   "version": "3.12.0"
  }
 },
 "nbformat": 4,
 "nbformat_minor": 5
}
